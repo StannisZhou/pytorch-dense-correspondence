{
 "cells": [
  {
   "cell_type": "code",
   "execution_count": null,
   "metadata": {},
   "outputs": [],
   "source": [
    "import dense_correspondence_manipulation.utils.utils as utils\n",
    "utils.add_dense_correspondence_to_python_path()\n",
    "from dense_correspondence.training.training import *\n",
    "import sys\n",
    "import logging\n",
    "\n",
    "# utils.set_default_cuda_visible_devices()\n",
    "utils.set_cuda_visible_devices([0]) # use this to manually set CUDA_VISIBLE_DEVICES\n",
    "\n",
    "from dense_correspondence.training.training import DenseCorrespondenceTraining\n",
    "from dense_correspondence.dataset.spartan_dataset_masked import SpartanDataset\n",
    "logging.basicConfig(level=logging.INFO)\n"
   ]
  },
  {
   "cell_type": "code",
   "execution_count": null,
   "metadata": {},
   "outputs": [],
   "source": [
    "config_filename = os.path.join(utils.getDenseCorrespondenceSourceDir(), 'config', 'dense_correspondence', \n",
    "                               'dataset', 'composite', 'caterpillar_only.yaml')\n",
    "config = utils.getDictFromYamlFilename(config_filename)\n",
    "\n",
    "train_config_file = os.path.join(utils.getDenseCorrespondenceSourceDir(), 'config', 'dense_correspondence', \n",
    "                               'training', 'training.yaml')\n",
    "\n",
    "train_config = utils.getDictFromYamlFilename(train_config_file)\n",
    "\n",
    "dataset = SpartanDataset(config=config)\n",
    "logging_dir = \"trained_models/caterpillar_new\"\n",
    "num_iterations_thousands = 15\n",
    "num_iterations = int(num_iterations_thousands*1e3)\n",
    "num_image_pairs = 100\n",
    "\n",
    "TRAIN = True\n",
    "EVALUATE = True\n"
   ]
  },
  {
   "cell_type": "code",
   "execution_count": null,
   "metadata": {},
   "outputs": [],
   "source": [
    "descriptor_dim = [3,]\n",
    "M_background_list = [0.5]\n",
    "\n",
    "for M_background in M_background_list:\n",
    "    for d in descriptor_dim:\n",
    "        print \"d:\", d\n",
    "        print \"M_background:\", M_background\n",
    "        print \"training descriptor of dimension %d\" %(d)\n",
    "        train = DenseCorrespondenceTraining(dataset=dataset, config=train_config)\n",
    "        train_config = utils.getDictFromYamlFilename(train_config_file)\n",
    "        name = \"caterpillar_M_background_%.3f_%s_steps_%sK\" %(M_background, d, num_iterations_thousands)\n",
    "\n",
    "        train._config[\"training\"][\"logging_dir\"] = logging_dir\n",
    "        train._config[\"training\"][\"logging_dir_name\"] = name\n",
    "        train._config[\"dense_correspondence_network\"][\"descriptor_dimension\"] = d\n",
    "        train._config[\"loss_function\"][\"M_background\"] = M_background\n",
    "        \n",
    "        train._config[\"training\"][\"num_iterations\"] = num_iterations\n",
    "        \n",
    "        train._config['training']['learning_rate_decay'] = 0.5\n",
    "        train._config['training']['steps_between_learning_rate_decay'] = 3000        \n",
    "\n",
    "        if TRAIN:\n",
    "            train.run()\n",
    "        print \"finished training descriptor of dimension %d\" %(d)\n",
    "\n",
    "         \n",
    "        model_folder = os.path.join(logging_dir, name)\n",
    "        model_folder = utils.convert_to_absolute_path(model_folder)\n",
    "        \n",
    "        if EVALUATE:\n",
    "            DCE = DenseCorrespondenceEvaluation\n",
    "            DCE.run_evaluation_on_network(model_folder, num_image_pairs=num_image_pairs)      \n",
    "    "
   ]
  },
  {
   "cell_type": "markdown",
   "metadata": {},
   "source": [
    "## Evaluate network every 1K training steps"
   ]
  },
  {
   "cell_type": "code",
   "execution_count": null,
   "metadata": {},
   "outputs": [],
   "source": [
    "for i in xrange(1,ngit um_iterations_thousands):\n",
    "    iteration = int(i * 1e3)\n",
    "    save_folder_name = \"analysis_\" + str(iteration)\n",
    "    print \"iteration\", iteration\n",
    "    DCE = DenseCorrespondenceEvaluation\n",
    "    DCE.run_evaluation_on_network(model_folder, num_image_pairs=num_image_pairs,\n",
    "                                          iteration=iteration,\n",
    "                                         save_folder_name=save_folder_name)\n",
    "    "
   ]
  }
 ],
 "metadata": {
  "kernelspec": {
   "display_name": "Python 2",
   "language": "python",
   "name": "python2"
  },
  "language_info": {
   "codemirror_mode": {
    "name": "ipython",
    "version": 2
   },
   "file_extension": ".py",
   "mimetype": "text/x-python",
   "name": "python",
   "nbconvert_exporter": "python",
   "pygments_lexer": "ipython2",
   "version": "2.7.12"
  }
 },
 "nbformat": 4,
 "nbformat_minor": 2
}

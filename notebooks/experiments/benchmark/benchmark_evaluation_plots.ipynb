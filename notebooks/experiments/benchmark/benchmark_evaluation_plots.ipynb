{
 "cells": [
  {
   "cell_type": "markdown",
   "metadata": {},
   "source": [
    "## Quantitative Plots for evaluating a new network\n",
    "\n",
    "This will make quantitative plots for the network on the following tasks\n",
    "\n",
    "1. Single object performance (caterpillar, baymax, starbot dataset) with no cross-object loss\n",
    "2. Class consistent performance on shoes dataset\n",
    "\n",
    "Set the `name` variable below to the name of the network that you trained in the `training_benchmark.ipynb` \n",
    "notebook"
   ]
  },
  {
   "cell_type": "code",
   "execution_count": 4,
   "metadata": {},
   "outputs": [
    {
     "name": "stdout",
     "output_type": "stream",
     "text": [
      "setting CUDA_VISIBLE_DEVICES =  0,\n"
     ]
    }
   ],
   "source": [
    "import dense_correspondence_manipulation.utils.utils as utils\n",
    "utils.add_dense_correspondence_to_python_path()\n",
    "from dense_correspondence.training.training import *\n",
    "import sys\n",
    "import logging\n",
    "import copy\n",
    "# utils.set_default_cuda_visible_devices()\n",
    "utils.set_cuda_visible_devices([0]) # use this to manually set CUDA_VISIBLE_DEVICES\n",
    "\n",
    "from dense_correspondence.training.training import DenseCorrespondenceTraining\n",
    "from dense_correspondence.dataset.spartan_dataset_masked import SpartanDataset\n",
    "logging.basicConfig(level=logging.INFO)"
   ]
  },
  {
   "cell_type": "code",
   "execution_count": 5,
   "metadata": {},
   "outputs": [],
   "source": [
    "##### CHANGE THIS TO YOUR NETWORK NAME ##############\n",
    "name = \"standard\"\n",
    "logging_dir = os.path.join(\"trained_models/benchmark\", name) # this is where trained models will be saved"
   ]
  },
  {
   "cell_type": "markdown",
   "metadata": {},
   "source": [
    "## Quant Eval Plots on Caterpillar-Baymax-Starbot dataset"
   ]
  },
  {
   "cell_type": "code",
   "execution_count": null,
   "metadata": {},
   "outputs": [],
   "source": [
    "\n",
    "\n",
    "baseline_networks = []\n",
    "baseline_networks.append(os.path.join('stable', 'baymax_starbot_caterpillar_3'))\n",
    "baseline_networks.append(os.path.join('stable', 'normalize_descriptors_baymax_caterpillar_starbot_M_0.50_16'))\n",
    "\n",
    "\n",
    "nets_to_plot = [os.path.join('benchmark', name, 'cbs_3')]\n",
    "nets_to_plot += baseline_networks\n",
    "\n",
    "path_to_csv = os.path.join(path_to_nets, network_name, \"analysis/cross_scene/data.csv\")\n",
    "df = pd.read_csv(path_to_csv, index_col=0, parse_dates=True)\n",
    "fig_axes = DCEP.run_on_single_dataframe(path_to_csv, label=network_name, save=False, dataframe=df)\n",
    "\n",
    "for network_name in nets_to_plot[1:]:\n",
    "    path_to_csv = os.path.join(path_to_nets, network_name, \"analysis/cross_scene/data.csv\")\n",
    "    df = pd.read_csv(path_to_csv, index_col=0, parse_dates=True)\n",
    "    fig_axes = DCEP.run_on_single_dataframe(path_to_csv, label=network_name, previous_fig_axes=fig_axes,\n",
    "                                            save=False, dataframe=df)\n",
    "\n",
    "_, axes = fig_axes\n",
    "# axes[0].set_title(\"Cross Scene Keypoints\")\n",
    "plt.show()"
   ]
  },
  {
   "cell_type": "markdown",
   "metadata": {},
   "source": [
    "## Quant Eval on class consistent network on shoes dataset"
   ]
  },
  {
   "cell_type": "code",
   "execution_count": null,
   "metadata": {},
   "outputs": [],
   "source": [
    "baseline_networks = []\n",
    "baseline_networks.append(os.path.join('stable', 'shoes_consistent_M_background_0.500_3'))\n",
    "\n",
    "\n",
    "nets_to_plot = [os.path.join('benchmark', name, 'shoes_consistent_3')]\n",
    "nets_to_plot += baseline_networks\n",
    "\n",
    "path_to_csv = os.path.join(path_to_nets, network_name, \"analysis/cross_scene_keypoints/data.csv\")\n",
    "df = pd.read_csv(path_to_csv, index_col=0, parse_dates=True)\n",
    "fig_axes = DCEP.run_on_single_dataframe(path_to_csv, label=network_name, save=False, dataframe=df)\n",
    "\n",
    "for network_name in nets_to_plot[1:]:\n",
    "    path_to_csv = os.path.join(path_to_nets, network_name, \"analysis/cross_scene_keypoints/data.csv\")\n",
    "    df = pd.read_csv(path_to_csv, index_col=0, parse_dates=True)\n",
    "    fig_axes = DCEP.run_on_single_dataframe(path_to_csv, label=network_name, previous_fig_axes=fig_axes,\n",
    "                                            save=False, dataframe=df)\n",
    "\n",
    "_, axes = fig_axes\n",
    "# axes[0].set_title(\"Cross Scene Keypoints\")\n",
    "plt.show()"
   ]
  }
 ],
 "metadata": {
  "kernelspec": {
   "display_name": "Python 2",
   "language": "python",
   "name": "python2"
  },
  "language_info": {
   "codemirror_mode": {
    "name": "ipython",
    "version": 2
   },
   "file_extension": ".py",
   "mimetype": "text/x-python",
   "name": "python",
   "nbconvert_exporter": "python",
   "pygments_lexer": "ipython2",
   "version": "2.7.12"
  }
 },
 "nbformat": 4,
 "nbformat_minor": 2
}

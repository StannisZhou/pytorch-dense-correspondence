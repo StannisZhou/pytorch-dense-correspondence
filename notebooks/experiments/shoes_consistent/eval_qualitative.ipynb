{
 "cells": [
  {
   "cell_type": "markdown",
   "metadata": {},
   "source": [
    "## Keypoint Qualitative Eval\n",
    "\n",
    "Shows best match and heatmap for keypoints on different instances of same class"
   ]
  },
  {
   "cell_type": "code",
   "execution_count": null,
   "metadata": {},
   "outputs": [],
   "source": [
    "%matplotlib inline\n",
    "\n",
    "import random\n",
    "import numpy as np\n",
    "import matplotlib.pyplot as plt\n",
    "import os\n",
    "import cv2\n",
    "import torch\n",
    "import dense_correspondence_manipulation.utils.utils as utils\n",
    "utils.add_dense_correspondence_to_python_path()\n",
    "\n",
    "import dense_correspondence\n",
    "from dense_correspondence.evaluation.evaluation import *\n",
    "import dense_correspondence.correspondence_tools.correspondence_plotter as correspondence_plotter\n",
    "from dense_correspondence.dataset.dense_correspondence_dataset_masked import ImageType\n",
    "\n",
    "from dense_correspondence.evaluation.utils import KeypointAnnotationsPandasTemplate\n",
    "\n",
    "DCE = DenseCorrespondenceEvaluation"
   ]
  },
  {
   "cell_type": "code",
   "execution_count": null,
   "metadata": {},
   "outputs": [],
   "source": [
    "%%javascript\n",
    "IPython.OutputArea.auto_scroll_threshold = 9999;"
   ]
  },
  {
   "cell_type": "code",
   "execution_count": null,
   "metadata": {},
   "outputs": [],
   "source": [
    "config_filename = os.path.join(utils.getDenseCorrespondenceSourceDir(), 'config', \n",
    "                               'dense_correspondence', 'evaluation', 'lucas_evaluation.yaml')\n",
    "config = utils.getDictFromYamlFilename(config_filename)\n",
    "default_config = utils.get_defaults_config()\n",
    "\n",
    "# utils.set_cuda_visible_devices([0])\n",
    "dce = DenseCorrespondenceEvaluation(config)\n",
    "DCE = DenseCorrespondenceEvaluation\n",
    "\n",
    "# load the relevant networks\n",
    "# will plot the correspondences side by side for each one\n",
    "network_names = []\n",
    "network_names.append(\"shoes_consistent_M_background_0.500_3\")\n",
    "network_names.append(\"shoes_consistent_M_background_0.500_3_15K_training\")\n",
    "\n",
    "dcn_list = []\n",
    "for name in network_names:\n",
    "    dcn_list.append(dce.load_network_from_config(name))\n",
    "\n",
    "dataset = dcn_list[0].load_training_dataset()\n",
    "\n",
    "keypoint_annotations_file = utils.convert_data_relative_path_to_absolute_path(\"evaluation_labeled_data/keypoints/shoe_keypoints.yaml\")\n",
    "keypoint_annotations = utils.getDictFromYamlFilename(keypoint_annotations_file)\n",
    "\n",
    "keypoint_annotations_df = KeypointAnnotationsPandasTemplate.convert_keypoint_annotations_file_to_dataframe(keypoint_annotations)\n",
    "\n",
    "# DenseCorrespondenceEvaluation.evaluate_network_qualitative(dcn, dataset=dataset, randomize=True)"
   ]
  },
  {
   "cell_type": "code",
   "execution_count": null,
   "metadata": {},
   "outputs": [],
   "source": [
    "keypoint_name = \"top_of_shoelaces\"\n",
    "df = keypoint_annotations_df\n",
    "\n",
    "num_samples = 10\n",
    "for i in xrange(0, num_samples):\n",
    "    keypoint_data_a = df[df['keypoint_name'] == keypoint_name ].sample(1).iloc[0]\n",
    "    keypoint_data_b = df[df['object_id'] != keypoint_data_a['object_id']].sample(1).iloc[0]\n",
    "    \n",
    "    object_id_a = keypoint_data_a['object_id']\n",
    "    object_id_b = keypoint_data_b['object_id']\n",
    "    if object_id_a == object_id_b:\n",
    "        raise ValueError(\"error\")\n",
    "        \n",
    "    for idx, name in enumerate(network_names):\n",
    "        dcn = dcn_list[idx]\n",
    "        DCE.single_image_pair_keypoint_qualitative_analysis(dcn, dataset, keypoint_data_a, \n",
    "                                                            keypoint_data_b, plot_title=name)\n",
    "        \n"
   ]
  },
  {
   "cell_type": "code",
   "execution_count": null,
   "metadata": {},
   "outputs": [],
   "source": [
    "keypoint_name = \"bottom_of_shoelaces\"\n",
    "df = keypoint_annotations_df\n",
    "num_samples = 10\n",
    "for i in xrange(0, num_samples):\n",
    "    keypoint_data_a = df[df['keypoint_name'] == keypoint_name ].sample(1).iloc[0]\n",
    "    keypoint_data_b = df[df['object_id'] != keypoint_data_a['object_id']].sample(1).iloc[0]\n",
    "    \n",
    "    object_id_a = keypoint_data_a['object_id']\n",
    "    object_id_b = keypoint_data_b['object_id']\n",
    "    if object_id_a == object_id_b:\n",
    "        raise ValueError(\"error\")\n",
    "        \n",
    "    for idx, name in enumerate(network_names):\n",
    "        dcn = dcn_list[idx]\n",
    "        DCE.single_image_pair_keypoint_qualitative_analysis(dcn, dataset, keypoint_data_a, \n",
    "                                                            keypoint_data_b, plot_title=name)"
   ]
  }
 ],
 "metadata": {
  "kernelspec": {
   "display_name": "Python 2",
   "language": "python",
   "name": "python2"
  },
  "language_info": {
   "codemirror_mode": {
    "name": "ipython",
    "version": 2
   },
   "file_extension": ".py",
   "mimetype": "text/x-python",
   "name": "python",
   "nbconvert_exporter": "python",
   "pygments_lexer": "ipython2",
   "version": "2.7.12"
  }
 },
 "nbformat": 4,
 "nbformat_minor": 2
}
